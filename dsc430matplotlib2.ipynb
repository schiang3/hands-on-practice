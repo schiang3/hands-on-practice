{
 "cells": [
  {
   "cell_type": "code",
   "execution_count": null,
   "metadata": {},
   "outputs": [],
   "source": [
    "''' \n",
    "Shuya Chiang 03/08/2019\n",
    "I have not given or received any unauthorized assistance on this assignment.\n",
    "'''"
   ]
  },
  {
   "cell_type": "code",
   "execution_count": 7,
   "metadata": {},
   "outputs": [],
   "source": [
    "import numpy as np\n",
    "import matplotlib.pyplot as plt\n",
    "import pandas as pd"
   ]
  },
  {
   "cell_type": "code",
   "execution_count": 8,
   "metadata": {
    "collapsed": true
   },
   "outputs": [
    {
     "name": "stdout",
     "output_type": "stream",
     "text": [
      "       longitude  latitude  housing_median_age  total_rooms  total_bedrooms  \\\n",
      "0        -122.23     37.88                41.0        880.0           129.0   \n",
      "1        -122.22     37.86                21.0       7099.0          1106.0   \n",
      "2        -122.24     37.85                52.0       1467.0           190.0   \n",
      "3        -122.25     37.85                52.0       1274.0           235.0   \n",
      "4        -122.25     37.85                52.0       1627.0           280.0   \n",
      "5        -122.25     37.85                52.0        919.0           213.0   \n",
      "6        -122.25     37.84                52.0       2535.0           489.0   \n",
      "7        -122.25     37.84                52.0       3104.0           687.0   \n",
      "8        -122.26     37.84                42.0       2555.0           665.0   \n",
      "9        -122.25     37.84                52.0       3549.0           707.0   \n",
      "10       -122.26     37.85                52.0       2202.0           434.0   \n",
      "11       -122.26     37.85                52.0       3503.0           752.0   \n",
      "12       -122.26     37.85                52.0       2491.0           474.0   \n",
      "13       -122.26     37.84                52.0        696.0           191.0   \n",
      "14       -122.26     37.85                52.0       2643.0           626.0   \n",
      "15       -122.26     37.85                50.0       1120.0           283.0   \n",
      "16       -122.27     37.85                52.0       1966.0           347.0   \n",
      "17       -122.27     37.85                52.0       1228.0           293.0   \n",
      "18       -122.26     37.84                50.0       2239.0           455.0   \n",
      "19       -122.27     37.84                52.0       1503.0           298.0   \n",
      "20       -122.27     37.85                40.0        751.0           184.0   \n",
      "21       -122.27     37.85                42.0       1639.0           367.0   \n",
      "22       -122.27     37.84                52.0       2436.0           541.0   \n",
      "23       -122.27     37.84                52.0       1688.0           337.0   \n",
      "24       -122.27     37.84                52.0       2224.0           437.0   \n",
      "25       -122.28     37.85                41.0        535.0           123.0   \n",
      "26       -122.28     37.85                49.0       1130.0           244.0   \n",
      "27       -122.28     37.85                52.0       1898.0           421.0   \n",
      "28       -122.28     37.84                50.0       2082.0           492.0   \n",
      "29       -122.28     37.84                52.0        729.0           160.0   \n",
      "...          ...       ...                 ...          ...             ...   \n",
      "20610    -121.56     39.10                28.0       2130.0           484.0   \n",
      "20611    -121.55     39.10                27.0       1783.0           441.0   \n",
      "20612    -121.56     39.08                26.0       1377.0           289.0   \n",
      "20613    -121.55     39.09                31.0       1728.0           365.0   \n",
      "20614    -121.54     39.08                26.0       2276.0           460.0   \n",
      "20615    -121.54     39.08                23.0       1076.0           216.0   \n",
      "20616    -121.53     39.08                15.0       1810.0           441.0   \n",
      "20617    -121.53     39.06                20.0        561.0           109.0   \n",
      "20618    -121.55     39.06                25.0       1332.0           247.0   \n",
      "20619    -121.56     39.01                22.0       1891.0           340.0   \n",
      "20620    -121.48     39.05                40.0        198.0            41.0   \n",
      "20621    -121.47     39.01                37.0       1244.0           247.0   \n",
      "20622    -121.44     39.00                20.0        755.0           147.0   \n",
      "20623    -121.37     39.03                32.0       1158.0           244.0   \n",
      "20624    -121.41     39.04                16.0       1698.0           300.0   \n",
      "20625    -121.52     39.12                37.0        102.0            17.0   \n",
      "20626    -121.43     39.18                36.0       1124.0           184.0   \n",
      "20627    -121.32     39.13                 5.0        358.0            65.0   \n",
      "20628    -121.48     39.10                19.0       2043.0           421.0   \n",
      "20629    -121.39     39.12                28.0      10035.0          1856.0   \n",
      "20630    -121.32     39.29                11.0       2640.0           505.0   \n",
      "20631    -121.40     39.33                15.0       2655.0           493.0   \n",
      "20632    -121.45     39.26                15.0       2319.0           416.0   \n",
      "20633    -121.53     39.19                27.0       2080.0           412.0   \n",
      "20634    -121.56     39.27                28.0       2332.0           395.0   \n",
      "20635    -121.09     39.48                25.0       1665.0           374.0   \n",
      "20636    -121.21     39.49                18.0        697.0           150.0   \n",
      "20637    -121.22     39.43                17.0       2254.0           485.0   \n",
      "20638    -121.32     39.43                18.0       1860.0           409.0   \n",
      "20639    -121.24     39.37                16.0       2785.0           616.0   \n",
      "\n",
      "       population  households  median_income  median_house_value  \\\n",
      "0           322.0       126.0         8.3252            452600.0   \n",
      "1          2401.0      1138.0         8.3014            358500.0   \n",
      "2           496.0       177.0         7.2574            352100.0   \n",
      "3           558.0       219.0         5.6431            341300.0   \n",
      "4           565.0       259.0         3.8462            342200.0   \n",
      "5           413.0       193.0         4.0368            269700.0   \n",
      "6          1094.0       514.0         3.6591            299200.0   \n",
      "7          1157.0       647.0         3.1200            241400.0   \n",
      "8          1206.0       595.0         2.0804            226700.0   \n",
      "9          1551.0       714.0         3.6912            261100.0   \n",
      "10          910.0       402.0         3.2031            281500.0   \n",
      "11         1504.0       734.0         3.2705            241800.0   \n",
      "12         1098.0       468.0         3.0750            213500.0   \n",
      "13          345.0       174.0         2.6736            191300.0   \n",
      "14         1212.0       620.0         1.9167            159200.0   \n",
      "15          697.0       264.0         2.1250            140000.0   \n",
      "16          793.0       331.0         2.7750            152500.0   \n",
      "17          648.0       303.0         2.1202            155500.0   \n",
      "18          990.0       419.0         1.9911            158700.0   \n",
      "19          690.0       275.0         2.6033            162900.0   \n",
      "20          409.0       166.0         1.3578            147500.0   \n",
      "21          929.0       366.0         1.7135            159800.0   \n",
      "22         1015.0       478.0         1.7250            113900.0   \n",
      "23          853.0       325.0         2.1806             99700.0   \n",
      "24         1006.0       422.0         2.6000            132600.0   \n",
      "25          317.0       119.0         2.4038            107500.0   \n",
      "26          607.0       239.0         2.4597             93800.0   \n",
      "27         1102.0       397.0         1.8080            105500.0   \n",
      "28         1131.0       473.0         1.6424            108900.0   \n",
      "29          395.0       155.0         1.6875            132000.0   \n",
      "...           ...         ...            ...                 ...   \n",
      "20610      1195.0       439.0         1.3631             45500.0   \n",
      "20611      1163.0       409.0         1.2857             47000.0   \n",
      "20612       761.0       267.0         1.4934             48300.0   \n",
      "20613      1167.0       384.0         1.4958             53400.0   \n",
      "20614      1455.0       474.0         2.4695             58000.0   \n",
      "20615       724.0       197.0         2.3598             57500.0   \n",
      "20616      1157.0       375.0         2.0469             55100.0   \n",
      "20617       308.0       114.0         3.3021             70800.0   \n",
      "20618       726.0       226.0         2.2500             63400.0   \n",
      "20619      1023.0       296.0         2.7303             99100.0   \n",
      "20620       151.0        48.0         4.5625            100000.0   \n",
      "20621       484.0       157.0         2.3661             77500.0   \n",
      "20622       457.0       157.0         2.4167             67000.0   \n",
      "20623       598.0       227.0         2.8235             65500.0   \n",
      "20624       731.0       291.0         3.0739             87200.0   \n",
      "20625        29.0        14.0         4.1250             72000.0   \n",
      "20626       504.0       171.0         2.1667             93800.0   \n",
      "20627       169.0        59.0         3.0000            162500.0   \n",
      "20628      1018.0       390.0         2.5952             92400.0   \n",
      "20629      6912.0      1818.0         2.0943            108300.0   \n",
      "20630      1257.0       445.0         3.5673            112000.0   \n",
      "20631      1200.0       432.0         3.5179            107200.0   \n",
      "20632      1047.0       385.0         3.1250            115600.0   \n",
      "20633      1082.0       382.0         2.5495             98300.0   \n",
      "20634      1041.0       344.0         3.7125            116800.0   \n",
      "20635       845.0       330.0         1.5603             78100.0   \n",
      "20636       356.0       114.0         2.5568             77100.0   \n",
      "20637      1007.0       433.0         1.7000             92300.0   \n",
      "20638       741.0       349.0         1.8672             84700.0   \n",
      "20639      1387.0       530.0         2.3886             89400.0   \n",
      "\n",
      "      ocean_proximity  \n",
      "0            NEAR BAY  \n",
      "1            NEAR BAY  \n",
      "2            NEAR BAY  \n",
      "3            NEAR BAY  \n",
      "4            NEAR BAY  \n",
      "5            NEAR BAY  \n",
      "6            NEAR BAY  \n",
      "7            NEAR BAY  \n",
      "8            NEAR BAY  \n",
      "9            NEAR BAY  \n",
      "10           NEAR BAY  \n",
      "11           NEAR BAY  \n",
      "12           NEAR BAY  \n",
      "13           NEAR BAY  \n",
      "14           NEAR BAY  \n",
      "15           NEAR BAY  \n",
      "16           NEAR BAY  \n",
      "17           NEAR BAY  \n",
      "18           NEAR BAY  \n",
      "19           NEAR BAY  \n",
      "20           NEAR BAY  \n",
      "21           NEAR BAY  \n",
      "22           NEAR BAY  \n",
      "23           NEAR BAY  \n",
      "24           NEAR BAY  \n",
      "25           NEAR BAY  \n",
      "26           NEAR BAY  \n",
      "27           NEAR BAY  \n",
      "28           NEAR BAY  \n",
      "29           NEAR BAY  \n",
      "...               ...  \n",
      "20610          INLAND  \n",
      "20611          INLAND  \n",
      "20612          INLAND  \n",
      "20613          INLAND  \n",
      "20614          INLAND  \n",
      "20615          INLAND  \n",
      "20616          INLAND  \n",
      "20617          INLAND  \n",
      "20618          INLAND  \n",
      "20619          INLAND  \n",
      "20620          INLAND  \n",
      "20621          INLAND  \n",
      "20622          INLAND  \n",
      "20623          INLAND  \n",
      "20624          INLAND  \n",
      "20625          INLAND  \n",
      "20626          INLAND  \n",
      "20627          INLAND  \n",
      "20628          INLAND  \n",
      "20629          INLAND  \n",
      "20630          INLAND  \n",
      "20631          INLAND  \n",
      "20632          INLAND  \n",
      "20633          INLAND  \n",
      "20634          INLAND  \n",
      "20635          INLAND  \n",
      "20636          INLAND  \n",
      "20637          INLAND  \n",
      "20638          INLAND  \n",
      "20639          INLAND  \n",
      "\n",
      "[20640 rows x 10 columns]\n"
     ]
    }
   ],
   "source": [
    "df=pd.read_csv(\"housing.csv\")\n",
    "#print(df)"
   ]
  },
  {
   "cell_type": "code",
   "execution_count": 13,
   "metadata": {},
   "outputs": [
    {
     "name": "stdout",
     "output_type": "stream",
     "text": [
      "<class 'pandas.core.frame.DataFrame'>\n",
      "RangeIndex: 20640 entries, 0 to 20639\n",
      "Columns: 10 entries, longitude to ocean_proximity\n",
      "dtypes: float64(9), object(1)\n",
      "memory usage: 1.6+ MB\n"
     ]
    }
   ],
   "source": [
    "#summary columns count dtypes\n",
    "df.info(verbose=False)"
   ]
  },
  {
   "cell_type": "code",
   "execution_count": 14,
   "metadata": {},
   "outputs": [
    {
     "name": "stdout",
     "output_type": "stream",
     "text": [
      "<class 'pandas.core.frame.DataFrame'>\n",
      "RangeIndex: 20640 entries, 0 to 20639\n",
      "Data columns (total 10 columns):\n",
      "longitude             20640 non-null float64\n",
      "latitude              20640 non-null float64\n",
      "housing_median_age    20640 non-null float64\n",
      "total_rooms           20640 non-null float64\n",
      "total_bedrooms        20433 non-null float64\n",
      "population            20640 non-null float64\n",
      "households            20640 non-null float64\n",
      "median_income         20640 non-null float64\n",
      "median_house_value    20640 non-null float64\n",
      "ocean_proximity       20640 non-null object\n",
      "dtypes: float64(9), object(1)\n",
      "memory usage: 1.6+ MB\n"
     ]
    }
   ],
   "source": [
    "#info all columns\n",
    "df.info(verbose=True)"
   ]
  },
  {
   "cell_type": "code",
   "execution_count": 83,
   "metadata": {},
   "outputs": [
    {
     "data": {
      "text/plain": [
       "206400"
      ]
     },
     "execution_count": 83,
     "metadata": {},
     "output_type": "execute_result"
    }
   ],
   "source": [
    "df.size"
   ]
  },
  {
   "cell_type": "code",
   "execution_count": 22,
   "metadata": {},
   "outputs": [
    {
     "data": {
      "text/plain": [
       "(20640, 10)"
      ]
     },
     "execution_count": 22,
     "metadata": {},
     "output_type": "execute_result"
    }
   ],
   "source": [
    "np.shape(df)"
   ]
  },
  {
   "cell_type": "code",
   "execution_count": 34,
   "metadata": {},
   "outputs": [
    {
     "data": {
      "text/html": [
       "<div>\n",
       "<style scoped>\n",
       "    .dataframe tbody tr th:only-of-type {\n",
       "        vertical-align: middle;\n",
       "    }\n",
       "\n",
       "    .dataframe tbody tr th {\n",
       "        vertical-align: top;\n",
       "    }\n",
       "\n",
       "    .dataframe thead th {\n",
       "        text-align: right;\n",
       "    }\n",
       "</style>\n",
       "<table border=\"1\" class=\"dataframe\">\n",
       "  <thead>\n",
       "    <tr style=\"text-align: right;\">\n",
       "      <th></th>\n",
       "      <th>longitude</th>\n",
       "      <th>latitude</th>\n",
       "      <th>housing_median_age</th>\n",
       "      <th>total_rooms</th>\n",
       "      <th>total_bedrooms</th>\n",
       "      <th>population</th>\n",
       "      <th>households</th>\n",
       "      <th>median_income</th>\n",
       "      <th>median_house_value</th>\n",
       "    </tr>\n",
       "  </thead>\n",
       "  <tbody>\n",
       "    <tr>\n",
       "      <th>count</th>\n",
       "      <td>20640.000000</td>\n",
       "      <td>20640.000000</td>\n",
       "      <td>20640.000000</td>\n",
       "      <td>20640.000000</td>\n",
       "      <td>20433.000000</td>\n",
       "      <td>20640.000000</td>\n",
       "      <td>20640.000000</td>\n",
       "      <td>20640.000000</td>\n",
       "      <td>20640.000000</td>\n",
       "    </tr>\n",
       "    <tr>\n",
       "      <th>mean</th>\n",
       "      <td>-119.569704</td>\n",
       "      <td>35.631861</td>\n",
       "      <td>28.639486</td>\n",
       "      <td>2635.763081</td>\n",
       "      <td>537.870553</td>\n",
       "      <td>1425.476744</td>\n",
       "      <td>499.539680</td>\n",
       "      <td>3.870671</td>\n",
       "      <td>206855.816909</td>\n",
       "    </tr>\n",
       "    <tr>\n",
       "      <th>std</th>\n",
       "      <td>2.003532</td>\n",
       "      <td>2.135952</td>\n",
       "      <td>12.585558</td>\n",
       "      <td>2181.615252</td>\n",
       "      <td>421.385070</td>\n",
       "      <td>1132.462122</td>\n",
       "      <td>382.329753</td>\n",
       "      <td>1.899822</td>\n",
       "      <td>115395.615874</td>\n",
       "    </tr>\n",
       "    <tr>\n",
       "      <th>min</th>\n",
       "      <td>-124.350000</td>\n",
       "      <td>32.540000</td>\n",
       "      <td>1.000000</td>\n",
       "      <td>2.000000</td>\n",
       "      <td>1.000000</td>\n",
       "      <td>3.000000</td>\n",
       "      <td>1.000000</td>\n",
       "      <td>0.499900</td>\n",
       "      <td>14999.000000</td>\n",
       "    </tr>\n",
       "    <tr>\n",
       "      <th>25%</th>\n",
       "      <td>-121.800000</td>\n",
       "      <td>33.930000</td>\n",
       "      <td>18.000000</td>\n",
       "      <td>1447.750000</td>\n",
       "      <td>296.000000</td>\n",
       "      <td>787.000000</td>\n",
       "      <td>280.000000</td>\n",
       "      <td>2.563400</td>\n",
       "      <td>119600.000000</td>\n",
       "    </tr>\n",
       "    <tr>\n",
       "      <th>50%</th>\n",
       "      <td>-118.490000</td>\n",
       "      <td>34.260000</td>\n",
       "      <td>29.000000</td>\n",
       "      <td>2127.000000</td>\n",
       "      <td>435.000000</td>\n",
       "      <td>1166.000000</td>\n",
       "      <td>409.000000</td>\n",
       "      <td>3.534800</td>\n",
       "      <td>179700.000000</td>\n",
       "    </tr>\n",
       "    <tr>\n",
       "      <th>75%</th>\n",
       "      <td>-118.010000</td>\n",
       "      <td>37.710000</td>\n",
       "      <td>37.000000</td>\n",
       "      <td>3148.000000</td>\n",
       "      <td>647.000000</td>\n",
       "      <td>1725.000000</td>\n",
       "      <td>605.000000</td>\n",
       "      <td>4.743250</td>\n",
       "      <td>264725.000000</td>\n",
       "    </tr>\n",
       "    <tr>\n",
       "      <th>max</th>\n",
       "      <td>-114.310000</td>\n",
       "      <td>41.950000</td>\n",
       "      <td>52.000000</td>\n",
       "      <td>39320.000000</td>\n",
       "      <td>6445.000000</td>\n",
       "      <td>35682.000000</td>\n",
       "      <td>6082.000000</td>\n",
       "      <td>15.000100</td>\n",
       "      <td>500001.000000</td>\n",
       "    </tr>\n",
       "  </tbody>\n",
       "</table>\n",
       "</div>"
      ],
      "text/plain": [
       "          longitude      latitude  housing_median_age   total_rooms  \\\n",
       "count  20640.000000  20640.000000        20640.000000  20640.000000   \n",
       "mean    -119.569704     35.631861           28.639486   2635.763081   \n",
       "std        2.003532      2.135952           12.585558   2181.615252   \n",
       "min     -124.350000     32.540000            1.000000      2.000000   \n",
       "25%     -121.800000     33.930000           18.000000   1447.750000   \n",
       "50%     -118.490000     34.260000           29.000000   2127.000000   \n",
       "75%     -118.010000     37.710000           37.000000   3148.000000   \n",
       "max     -114.310000     41.950000           52.000000  39320.000000   \n",
       "\n",
       "       total_bedrooms    population    households  median_income  \\\n",
       "count    20433.000000  20640.000000  20640.000000   20640.000000   \n",
       "mean       537.870553   1425.476744    499.539680       3.870671   \n",
       "std        421.385070   1132.462122    382.329753       1.899822   \n",
       "min          1.000000      3.000000      1.000000       0.499900   \n",
       "25%        296.000000    787.000000    280.000000       2.563400   \n",
       "50%        435.000000   1166.000000    409.000000       3.534800   \n",
       "75%        647.000000   1725.000000    605.000000       4.743250   \n",
       "max       6445.000000  35682.000000   6082.000000      15.000100   \n",
       "\n",
       "       median_house_value  \n",
       "count        20640.000000  \n",
       "mean        206855.816909  \n",
       "std         115395.615874  \n",
       "min          14999.000000  \n",
       "25%         119600.000000  \n",
       "50%         179700.000000  \n",
       "75%         264725.000000  \n",
       "max         500001.000000  "
      ]
     },
     "execution_count": 34,
     "metadata": {},
     "output_type": "execute_result"
    }
   ],
   "source": [
    "df.describe()#know mean std min max 25% 50% 75%"
   ]
  },
  {
   "cell_type": "code",
   "execution_count": 49,
   "metadata": {},
   "outputs": [
    {
     "data": {
      "text/html": [
       "<div>\n",
       "<style scoped>\n",
       "    .dataframe tbody tr th:only-of-type {\n",
       "        vertical-align: middle;\n",
       "    }\n",
       "\n",
       "    .dataframe tbody tr th {\n",
       "        vertical-align: top;\n",
       "    }\n",
       "\n",
       "    .dataframe thead th {\n",
       "        text-align: right;\n",
       "    }\n",
       "</style>\n",
       "<table border=\"1\" class=\"dataframe\">\n",
       "  <thead>\n",
       "    <tr style=\"text-align: right;\">\n",
       "      <th></th>\n",
       "      <th>ocean_proximity</th>\n",
       "    </tr>\n",
       "  </thead>\n",
       "  <tbody>\n",
       "    <tr>\n",
       "      <th>count</th>\n",
       "      <td>20640</td>\n",
       "    </tr>\n",
       "    <tr>\n",
       "      <th>unique</th>\n",
       "      <td>5</td>\n",
       "    </tr>\n",
       "    <tr>\n",
       "      <th>top</th>\n",
       "      <td>&lt;1H OCEAN</td>\n",
       "    </tr>\n",
       "    <tr>\n",
       "      <th>freq</th>\n",
       "      <td>9136</td>\n",
       "    </tr>\n",
       "  </tbody>\n",
       "</table>\n",
       "</div>"
      ],
      "text/plain": [
       "       ocean_proximity\n",
       "count            20640\n",
       "unique               5\n",
       "top          <1H OCEAN\n",
       "freq              9136"
      ]
     },
     "execution_count": 49,
     "metadata": {},
     "output_type": "execute_result"
    }
   ],
   "source": [
    "df.describe(include=[np.object])"
   ]
  },
  {
   "cell_type": "code",
   "execution_count": 44,
   "metadata": {},
   "outputs": [
    {
     "data": {
      "image/png": "[encoded data removed]",
      "text/plain": [
       "<Figure size 432x288 with 1 Axes>"
      ]
     },
     "metadata": {
      "needs_background": "light"
     },
     "output_type": "display_data"
    }
   ],
   "source": [
    "df.hist(column='population', bins=50)\n",
    "plt.title('Histogram of Population') \n",
    "plt.show()"
   ]
  },
  {
   "cell_type": "code",
   "execution_count": 55,
   "metadata": {},
   "outputs": [
    {
     "data": {
      "image/png": "[encoded data removed]",
      "text/plain": [
       "<Figure size 432x288 with 1 Axes>"
      ]
     },
     "metadata": {
      "needs_background": "light"
     },
     "output_type": "display_data"
    }
   ],
   "source": [
    "df['ocean_proximity'].value_counts().plot(kind='bar')\n",
    "plt.title('bar chart of ocean proximity')\n",
    "plt.show()"
   ]
  },
  {
   "cell_type": "code",
   "execution_count": 77,
   "metadata": {},
   "outputs": [
    {
     "data": {
      "image/png": "[encoded data removed]",
      "text/plain": [
       "<Figure size 432x288 with 2 Axes>"
      ]
     },
     "metadata": {
      "needs_background": "light"
     },
     "output_type": "display_data"
    }
   ],
   "source": [
    "df.plot.scatter(x='housing_median_age',y='population',c='median_house_value', colormap='rainbow')\n",
    "plt.title('scatterpot of housing age and population color by house value ')\n",
    "plt.show()"
   ]
  },
  {
   "cell_type": "code",
   "execution_count": 81,
   "metadata": {},
   "outputs": [
    {
     "data": {
      "text/plain": [
       "''"
      ]
     },
     "execution_count": 81,
     "metadata": {},
     "output_type": "execute_result"
    }
   ],
   "source": [
    "''' \n",
    "When the housing median age is younger, there're more houses have higher median house value compared to the house age is old.\n",
    "It seems like the mode of median house value is around 200000 to 350000. \n",
    "When house median is older, there are more houses are lower median house value.\n",
    "'''"
   ]
  },
  {
   "cell_type": "code",
   "execution_count": null,
   "metadata": {},
   "outputs": [],
   "source": []
  }
 ],
 "metadata": {
  "kernelspec": {
   "display_name": "Python 3",
   "language": "python",
   "name": "python3"
  },
  "language_info": {
   "codemirror_mode": {
    "name": "ipython",
    "version": 3
   },
   "file_extension": ".py",
   "mimetype": "text/x-python",
   "name": "python",
   "nbconvert_exporter": "python",
   "pygments_lexer": "ipython3",
   "version": "3.7.3"
  }
 },
 "nbformat": 4,
 "nbformat_minor": 2
}
